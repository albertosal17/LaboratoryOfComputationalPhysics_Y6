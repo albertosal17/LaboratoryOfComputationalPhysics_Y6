{
 "cells": [
  {
   "cell_type": "markdown",
   "metadata": {},
   "source": [
    "1. The MickeyMouse problem\n",
    "\n",
    "a) Write a program that prints the numbers from 1 to 100. But for multiples of 3 print `Mickey` instead of the corresponding number and for the multiples of 5 print `Mouse`. For numbers which are multiples of both three and five print `MickeyMouse`\n",
    "\n",
    "b) Put the result in a tuple and substitute `Mickey` with `Donald` and `Mouse` with `Duck`"
   ]
  },
  {
   "cell_type": "markdown",
   "metadata": {},
   "source": [
    "2\\. The swap function\n",
    "\n",
    "Write a function that swap the values of two input variables x and y (whatever the type). Try to do that also without a temporary variable"
   ]
  },
  {
   "cell_type": "markdown",
   "metadata": {},
   "source": [
    "3\\. Computing the distance\n",
    "\n",
    "Write a function that calculates and returns the euclidean distance between two points *u* and *v*, where *u* and *v* are both 2-tuples *(x,y)*. For example, if *u=(3,0)* and *v=(0,4)*, the function should return 5"
   ]
  },
  {
   "cell_type": "markdown",
   "metadata": {},
   "source": [
    "4\\. Counting letters\n",
    "\n",
    "Write a program to calculate the number of times each character occurs in a given string *s*. Ignore differneces in capitalization"
   ]
  },
  {
   "cell_type": "code",
   "execution_count": 1,
   "metadata": {},
   "outputs": [],
   "source": [
    "#PROBLEMA 1"
   ]
  },
  {
   "cell_type": "code",
   "execution_count": 21,
   "metadata": {},
   "outputs": [
    {
     "name": "stdout",
     "output_type": "stream",
     "text": [
      "1\n",
      "0\n"
     ]
    }
   ],
   "source": [
    "#PROBLEMA 2\n",
    "\n",
    "x=0\n",
    "y=1\n",
    "\n",
    "def f():\n",
    "    global x #così mi riferisco alla x fuori dallo scope della funzione\n",
    "    global y\n",
    "    a = [x,y]\n",
    "    \n",
    "    #swappo i valori x->y e y->x\n",
    "    x = a[1] \n",
    "    y = a[0]\n",
    "    \n",
    "f()\n",
    "print(x)\n",
    "print(y)"
   ]
  },
  {
   "cell_type": "code",
   "execution_count": 28,
   "metadata": {},
   "outputs": [
    {
     "name": "stdout",
     "output_type": "stream",
     "text": [
      "5.0\n"
     ]
    }
   ],
   "source": [
    "#PROBLEMA 3\n",
    "import numpy as np\n",
    "\n",
    "def d(u,v):\n",
    "    \n",
    "    \n",
    "    d=np.sqrt((u[0]-v[0])**2 + (u[1]-v[1])**2)\n",
    "    print(d)\n",
    "    \n",
    "d((3,0),(0,4))"
   ]
  },
  {
   "cell_type": "code",
   "execution_count": 59,
   "metadata": {},
   "outputs": [
    {
     "name": "stdout",
     "output_type": "stream",
     "text": [
      "( A,a ) 2\n",
      "( B,b ) 1\n",
      "( E,e ) 1\n",
      "( G,g ) 1\n",
      "( L,l ) 2\n",
      "( M,m ) 3\n",
      "( O,o ) 3\n",
      "( P,p ) 1\n",
      "( R,r ) 3\n",
      "( S,s ) 1\n",
      "( T,t ) 1\n"
     ]
    }
   ],
   "source": [
    "#PROBLEMA 4\n",
    "\n",
    "def f(s):\n",
    "    \n",
    "    a={}\n",
    "    \n",
    "    #inizializzo il dizionario che conterrà i conteggi delle varie \n",
    "    #lettere nella stringa\n",
    "    for j in range(65,91):\n",
    "            a[chr(j)+\",\"+chr(j+32)] = 0 \n",
    "            \n",
    "            #chr restituisce la lettera ASCII associata ad un certo \n",
    "            #numero decimale. Tra uppercase e lowercase c'è uno \n",
    "            #sfasamento di 32 (vedi tabella:\n",
    "            #https://python-reference.readthedocs.io/en/latest/docs/str/ASCII.html) \n",
    "\n",
    "            \n",
    "    for i in s:#ciclo sui singoli caratteri della stringa\n",
    "   \n",
    "        for j in range(65,91):#ciclo per capire se un certo carattere è una a,A; b,B....\n",
    "            \n",
    "            if i==chr(j) or i==chr(j+32):\n",
    "                a[chr(j)+\",\"+chr(j+32)] += 1\n",
    "    \n",
    "    for n in a: #ciclo sulle keys del dizionario per capire quali lettere sono state trovate\n",
    "        if a[n] != 0:\n",
    "            print(\"(\", n, \")\", a[n])\n",
    "    \n",
    "f(\"bello sto PrrograMMma\")\n",
    "            \n",
    "            "
   ]
  },
  {
   "cell_type": "code",
   "execution_count": 60,
   "metadata": {},
   "outputs": [
    {
     "name": "stdout",
     "output_type": "stream",
     "text": [
      "( A,a ) 7\n",
      "( B,b ) 5\n",
      "( C,c ) 3\n",
      "( D,d ) 3\n",
      "( E,e ) 22\n",
      "( F,f ) 10\n",
      "( G,g ) 1\n",
      "( H,h ) 9\n",
      "( I,i ) 14\n",
      "( K,k ) 2\n",
      "( L,l ) 6\n",
      "( M,m ) 12\n",
      "( N,n ) 10\n",
      "( O,o ) 13\n",
      "( P,p ) 8\n",
      "( R,r ) 17\n",
      "( S,s ) 9\n",
      "( T,t ) 19\n",
      "( U,u ) 9\n",
      "( V,v ) 2\n",
      "( W,w ) 2\n",
      "( Y,y ) 2\n"
     ]
    }
   ],
   "source": [
    "s=\"Write a program that prints the numbers from 1 to 100. \\\n",
    "But for multiples of three print Mickey instead of the number and for the multiples of five print Mouse. \\\n",
    "For numbers which are multiples of both three and five print MickeyMouse\"\n",
    "\n",
    "f(s)"
   ]
  },
  {
   "cell_type": "markdown",
   "metadata": {},
   "source": [
    "5\\. Isolating the unique\n",
    "\n",
    "Write a function that determines and count the unique numbers in the list *l*"
   ]
  },
  {
   "cell_type": "code",
   "execution_count": null,
   "metadata": {},
   "outputs": [],
   "source": [
    "l = [36, 45, 58, 3, 74, 96, 64, 45, 31, 10, 24, 19, 33, 86, 99, 18, 63, 70, 85,\n",
    " 85, 63, 47, 56, 42, 70, 84, 88, 55, 20, 54, 8, 56, 51, 79, 81, 57, 37, 91,\n",
    " 1, 84, 84, 36, 66, 9, 89, 50, 42, 91, 50, 95, 90, 98, 39, 16, 82, 31, 92, 41,\n",
    " 45, 30, 66, 70, 34, 85, 94, 5, 3, 36, 72, 91, 84, 34, 87, 75, 53, 51, 20, 89, 51, 20]"
   ]
  },
  {
   "cell_type": "markdown",
   "metadata": {},
   "source": [
    "6\\. Combination of functions\n",
    "\n",
    "Write two functions - one that returns the square of a number, and one that returns the cube. Now write a third function that returns the number raised to the 6th power using the two previous functions."
   ]
  },
  {
   "cell_type": "markdown",
   "metadata": {},
   "source": [
    "7\\. Cubes\n",
    "\n",
    "Create a list of the cubes of x for x in *[0, 10]* using:\n",
    "\n",
    "a) a for loop\n",
    "\n",
    "b) a list comprehension"
   ]
  },
  {
   "cell_type": "markdown",
   "metadata": {},
   "source": [
    "8\\. Nested list comprehension\n",
    "\n",
    "A Pythagorean triple is an integer solution to the Pythagorean theorem $a^2+b^2=c^2$. The first Pythagorean triple is (3,4,5). Find and put in a tuple all unique Pythagorean triples for the positive integers a, b and c less than 100."
   ]
  },
  {
   "cell_type": "markdown",
   "metadata": {},
   "source": [
    "9\\. Normalization\n",
    "\n",
    "Write a function that takes a tuple of numbers and returns it with the entries normalized to one"
   ]
  },
  {
   "cell_type": "code",
   "execution_count": null,
   "metadata": {},
   "outputs": [],
   "source": []
  }
 ],
 "metadata": {
  "kernelspec": {
   "display_name": "Python 3 (ipykernel)",
   "language": "python",
   "name": "python3"
  },
  "language_info": {
   "codemirror_mode": {
    "name": "ipython",
    "version": 3
   },
   "file_extension": ".py",
   "mimetype": "text/x-python",
   "name": "python",
   "nbconvert_exporter": "python",
   "pygments_lexer": "ipython3",
   "version": "3.11.5"
  }
 },
 "nbformat": 4,
 "nbformat_minor": 2
}
