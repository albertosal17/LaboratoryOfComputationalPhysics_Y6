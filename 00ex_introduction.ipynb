{
 "cells": [
  {
   "cell_type": "markdown",
   "metadata": {},
   "source": [
    "1. The MickeyMouse problem\n",
    "\n",
    "a) Write a program that prints the numbers from 1 to 100. But for multiples of 3 print `Mickey` instead of the corresponding number and for the multiples of 5 print `Mouse`. For numbers which are multiples of both three and five print `MickeyMouse`\n",
    "\n",
    "b) Put the result in a tuple and substitute `Mickey` with `Donald` and `Mouse` with `Duck`"
   ]
  },
  {
   "cell_type": "code",
   "execution_count": 5,
   "metadata": {},
   "outputs": [
    {
     "name": "stdout",
     "output_type": "stream",
     "text": [
      "1\n",
      "2\n",
      "Mickey\n",
      "4\n",
      "Mouse\n",
      "Mickey\n",
      "7\n",
      "8\n",
      "Mickey\n",
      "Mouse\n",
      "11\n",
      "Mickey\n",
      "13\n",
      "14\n",
      "MickeyMouse\n",
      "16\n",
      "17\n",
      "Mickey\n",
      "19\n",
      "Mouse\n",
      "Mickey\n",
      "22\n",
      "23\n",
      "Mickey\n",
      "Mouse\n",
      "26\n",
      "Mickey\n",
      "28\n",
      "29\n",
      "MickeyMouse\n",
      "31\n",
      "32\n",
      "Mickey\n",
      "34\n",
      "Mouse\n",
      "Mickey\n",
      "37\n",
      "38\n",
      "Mickey\n",
      "Mouse\n",
      "41\n",
      "Mickey\n",
      "43\n",
      "44\n",
      "MickeyMouse\n",
      "46\n",
      "47\n",
      "Mickey\n",
      "49\n",
      "Mouse\n",
      "Mickey\n",
      "52\n",
      "53\n",
      "Mickey\n",
      "Mouse\n",
      "56\n",
      "Mickey\n",
      "58\n",
      "59\n",
      "MickeyMouse\n",
      "61\n",
      "62\n",
      "Mickey\n",
      "64\n",
      "Mouse\n",
      "Mickey\n",
      "67\n",
      "68\n",
      "Mickey\n",
      "Mouse\n",
      "71\n",
      "Mickey\n",
      "73\n",
      "74\n",
      "MickeyMouse\n",
      "76\n",
      "77\n",
      "Mickey\n",
      "79\n",
      "Mouse\n",
      "Mickey\n",
      "82\n",
      "83\n",
      "Mickey\n",
      "Mouse\n",
      "86\n",
      "Mickey\n",
      "88\n",
      "89\n",
      "MickeyMouse\n",
      "91\n",
      "92\n",
      "Mickey\n",
      "94\n",
      "Mouse\n",
      "Mickey\n",
      "97\n",
      "98\n",
      "Mickey\n",
      "Mouse\n"
     ]
    }
   ],
   "source": [
    "#PROBLEMA 1\n",
    "for i in range(1,101):\n",
    "\n",
    "    if(i%5 == 0 and i%3 == 0):print(\"MickeyMouse\")\n",
    "\n",
    "    elif(i%3 == 0): print(\"Mickey\")\n",
    "\n",
    "    elif(i%5 == 0):print(\"Mouse\")\n",
    "\n",
    "    else: print(i)"
   ]
  },
  {
   "cell_type": "code",
   "execution_count": 7,
   "metadata": {},
   "outputs": [
    {
     "name": "stdout",
     "output_type": "stream",
     "text": [
      "<class 'tuple'>\n"
     ]
    }
   ],
   "source": [
    "l=[]\n",
    "\n",
    "for i in range(1,101):\n",
    "\n",
    "    if(i%5 == 0 and i%3 == 0):l.append(\"DonaldDuck\")\n",
    "\n",
    "    elif(i%3 == 0): l.append(\"Donald\")\n",
    "\n",
    "    elif(i%5 == 0):l.append(\"Duck\")\n",
    "\n",
    "    else: l.append(i)\n",
    "\n",
    "tp = tuple(l)\n",
    "print(type(tp))"
   ]
  },
  {
   "cell_type": "markdown",
   "metadata": {},
   "source": [
    "2\\. The swap function\n",
    "\n",
    "Write a function that swap the values of two input variables x and y (whatever the type). Try to do that also without a temporary variable"
   ]
  },
  {
   "cell_type": "code",
   "execution_count": 17,
   "metadata": {},
   "outputs": [
    {
     "name": "stdout",
     "output_type": "stream",
     "text": [
      "(1, 0)\n",
      "1 0\n"
     ]
    }
   ],
   "source": [
    "#PROBLEMA 2\n",
    "\n",
    "x=0\n",
    "y=1\n",
    "\n",
    "def f(x,y):\n",
    "    return y,x\n",
    "\n",
    "\n",
    "def f_global():\n",
    "    global x #così mi riferisco alla x fuori dallo scope della funzione\n",
    "    global y\n",
    "\n",
    "    #swappo i valori x->y e y->x\n",
    "    a = x\n",
    "    b = y\n",
    "    x = b\n",
    "    y = a\n",
    "\n",
    "print(f(x,y))\n",
    "\n",
    "f_global()\n",
    "print(x,y)\n"
   ]
  },
  {
   "cell_type": "markdown",
   "metadata": {},
   "source": [
    "3\\. Computing the distance\n",
    "\n",
    "Write a function that calculates and returns the euclidean distance between two points *u* and *v*, where *u* and *v* are both 2-tuples *(x,y)*. For example, if *u=(3,0)* and *v=(0,4)*, the function should return 5"
   ]
  },
  {
   "cell_type": "code",
   "execution_count": 1,
   "metadata": {},
   "outputs": [
    {
     "name": "stdout",
     "output_type": "stream",
     "text": [
      "5.0\n"
     ]
    }
   ],
   "source": [
    "#PROBLEMA 3\n",
    "import numpy as np\n",
    "\n",
    "def d(u,v): \n",
    "    d = np.sqrt((u[0]-v[0])**2 + (u[1]-v[1])**2)\n",
    "    return d\n",
    "    \n",
    "print(d((3,0),(0,4)))"
   ]
  },
  {
   "cell_type": "markdown",
   "metadata": {},
   "source": [
    "4\\. Counting letters\n",
    "\n",
    "Write a program to calculate the number of times each character occurs in a given string *s*. Ignore differences in capitalization"
   ]
  },
  {
   "cell_type": "code",
   "execution_count": 8,
   "metadata": {},
   "outputs": [
    {
     "name": "stdout",
     "output_type": "stream",
     "text": [
      "( A,a ) 12\n",
      "( I,i ) 1\n",
      "( O,o ) 1\n",
      "( P,p ) 2\n",
      "( Z,z ) 5\n"
     ]
    }
   ],
   "source": [
    "#PROBLEMA 4\n",
    "\n",
    "def f(s):\n",
    "    \n",
    "    a = {}\n",
    "    \n",
    "    #inizializzo il dizionario che conterrà i conteggi delle lettere \n",
    "    for j in range(65,91):\n",
    "            a[chr(j)+\",\"+chr(j+32)] = 0 \n",
    "            \n",
    "            #chr restituisce la lettera ASCII associata ad un certo \n",
    "            #numero decimale. Tra uppercase e lowercase c'è uno \n",
    "            #sfasamento di 32 (vedi tabella:\n",
    "            #https://python-reference.readthedocs.io/en/latest/docs/str/ASCII.html) \n",
    "\n",
    "            \n",
    "    for i in s:#ciclo sui singoli caratteri della stringa\n",
    "        char = i.upper() #scelta arbitraria            \n",
    "        a[char + \",\" + char.lower()] = a.get((char + \",\" + char.lower()))+1 #get ti ritorna il valore associato a quella key\n",
    "    \n",
    "    for n in a: #ciclo sulle keys del dizionario per capire quali lettere sono state trovate\n",
    "        if a[n] != 0:\n",
    "            print(\"(\", n, \")\", a[n])\n",
    "    \n",
    "f(\"AAAAaaaazZZioPAAAAZZP\")\n",
    "            \n",
    "            "
   ]
  },
  {
   "cell_type": "markdown",
   "metadata": {},
   "source": [
    "5\\. Isolating the unique\n",
    "\n",
    "Write a function that determines and count the unique numbers in the list *l*"
   ]
  },
  {
   "cell_type": "code",
   "execution_count": 19,
   "metadata": {},
   "outputs": [
    {
     "name": "stdout",
     "output_type": "stream",
     "text": [
      "The count of unique numbers is: 8\n"
     ]
    }
   ],
   "source": [
    "def count_unique_numbers(integer_list):\n",
    "    # Use a set to store unique numbers\n",
    "    unique_numbers = set()\n",
    "\n",
    "    # Iterate through the list and add each number to the set\n",
    "    for num in integer_list:\n",
    "        print(num)\n",
    "        unique_numbers.add(num)\n",
    "\n",
    "    # Return the count of unique numbers\n",
    "    return len(unique_numbers)\n",
    "\n",
    "# Example usage:\n",
    "random_integer_list = [1, 2, 3, 4, 5, 2, 3, 6, 7, 8, 1]\n",
    "unique_count = count_unique_numbers(random_integer_list)\n",
    "\n",
    "print(f\"The count of unique numbers is: {unique_count}\")"
   ]
  },
  {
   "cell_type": "code",
   "execution_count": 18,
   "metadata": {},
   "outputs": [
    {
     "name": "stdout",
     "output_type": "stream",
     "text": [
      "[1, 3, 3, 5, 8, 9, 10, 16, 18, 19, 20, 20, 20, 24, 30, 31, 31, 33, 34, 34, 36, 36, 36, 37, 39, 41, 42, 42, 45, 45, 45, 47, 50, 50, 51, 51, 51, 53, 54, 55, 56, 56, 57, 58, 63, 63, 64, 66, 66, 70, 70, 70, 72, 74, 75, 79, 81, 82, 84, 84, 84, 84, 85, 85, 85, 86, 87, 88, 89, 89, 90, 91, 91, 91, 92, 94, 95, 96, 98, 99]\n"
     ]
    }
   ],
   "source": [
    "l = [36, 45, 58, 3, 74, 96, 64, 45, 31, 10, 24, 19, 33, 86, 99, 18, 63, 70, 85,\n",
    " 85, 63, 47, 56, 42, 70, 84, 88, 55, 20, 54, 8, 56, 51, 79, 81, 57, 37, 91,\n",
    " 1, 84, 84, 36, 66, 9, 89, 50, 42, 91, 50, 95, 90, 98, 39, 16, 82, 31, 92, 41,\n",
    " 45, 30, 66, 70, 34, 85, 94, 5, 3, 36, 72, 91, 84, 34, 87, 75, 53, 51, 20, 89, 51, 20]\n",
    "\n",
    "l.sort()\n",
    "print(l)"
   ]
  },
  {
   "cell_type": "code",
   "execution_count": 15,
   "metadata": {},
   "outputs": [
    {
     "name": "stdout",
     "output_type": "stream",
     "text": [
      "[58, 74, 96, 64, 10, 24, 19, 33, 86, 99, 18, 47, 88, 55, 54, 8, 79, 81, 57, 37, 1, 9, 95, 90, 98, 39, 16, 82, 92, 41, 30, 94, 5, 72, 87, 75, 53]\n"
     ]
    }
   ],
   "source": [
    "def uniques(l):\n",
    "\n",
    "    a={}\n",
    "    \n",
    "    #inizializzo il dizionario che conterrà i conteggi dei numeri presenti nella lista\n",
    "    for j in l:\n",
    "            a[j] = 0 \n",
    "            #!!! ci saranno multiple inizializzazioni a zero per quei numeri\n",
    "            #che si ripetono all'interno della lista->il numero di keys sarà \n",
    "            #diverso dal numero di elementi nella lista\n",
    "                      \n",
    "    for i in l:#ciclo sui singoli caratteri della lista\n",
    "   \n",
    "        for j in a.keys():\n",
    "            \n",
    "            if i == j:\n",
    "                a[j] += 1\n",
    "    \n",
    "    u = []\n",
    "    for n in a: #ciclo sulle keys del dizionario per capire quali lettere sono state trovate\n",
    "        if a[n] == 1: u.append(n)\n",
    "\n",
    "    return u\n",
    "    \n",
    "print(uniques(l))\n",
    "         "
   ]
  },
  {
   "cell_type": "markdown",
   "metadata": {},
   "source": [
    "6\\. Combination of functions\n",
    "\n",
    "Write two functions - one that returns the square of a number, and one that returns the cube. Now write a third function that returns the number raised to the 6th power using the two previous functions."
   ]
  },
  {
   "cell_type": "code",
   "execution_count": 13,
   "metadata": {},
   "outputs": [
    {
     "data": {
      "text/plain": [
       "729"
      ]
     },
     "execution_count": 13,
     "metadata": {},
     "output_type": "execute_result"
    }
   ],
   "source": [
    "def pippo(x): return x**2\n",
    "\n",
    "def cube(x): return x**3\n",
    "\n",
    "def sixth(x):\n",
    "    return cube(pippo(x))\n",
    "\n",
    "sixth(3)"
   ]
  },
  {
   "cell_type": "markdown",
   "metadata": {},
   "source": [
    "7\\. Cubes\n",
    "\n",
    "Create a list of the cubes of x for x in *[0, 10]* using:\n",
    "\n",
    "a) a for loop\n",
    "\n",
    "b) a list comprehension"
   ]
  },
  {
   "cell_type": "code",
   "execution_count": 22,
   "metadata": {},
   "outputs": [
    {
     "name": "stdout",
     "output_type": "stream",
     "text": [
      "[0, 1, 8, 27, 64, 125, 216, 343, 512, 729, 1000]\n",
      "[0, 1, 8, 27, 64, 125, 216, 343, 512, 729, 1000]\n"
     ]
    }
   ],
   "source": [
    "l1 = []\n",
    "\n",
    "for i in range(11): l1.append(i**3)\n",
    "\n",
    "l2 = [j**3 for j in range(11)]\n",
    "\n",
    "print(l1)\n",
    "print(l2)"
   ]
  },
  {
   "cell_type": "markdown",
   "metadata": {},
   "source": [
    "8\\. Nested list comprehension\n",
    "\n",
    "A Pythagorean triple is an integer solution to the Pythagorean theorem $a^2+b^2=c^2$. The first Pythagorean triple is (3,4,5). Find and put in a tuple all unique Pythagorean triples for the positive integers a, b and c less than 100."
   ]
  },
  {
   "cell_type": "code",
   "execution_count": 11,
   "metadata": {},
   "outputs": [
    {
     "name": "stdout",
     "output_type": "stream",
     "text": [
      "[[3, 4, 5], [4, 3, 5], [5, 12, 13], [6, 8, 10], [7, 24, 25], [8, 6, 10], [8, 15, 17], [9, 12, 15], [9, 40, 41], [10, 24, 26], [11, 60, 61], [12, 5, 13], [12, 9, 15], [12, 16, 20], [12, 35, 37], [13, 84, 85], [14, 48, 50], [15, 8, 17], [15, 20, 25], [15, 36, 39], [16, 12, 20], [16, 30, 34], [16, 63, 65], [18, 24, 30], [18, 80, 82], [20, 15, 25], [20, 21, 29], [20, 48, 52], [21, 20, 29], [21, 28, 35], [21, 72, 75], [24, 7, 25], [24, 10, 26], [24, 18, 30], [24, 32, 40], [24, 45, 51], [24, 70, 74], [25, 60, 65], [27, 36, 45], [28, 21, 35], [28, 45, 53], [30, 16, 34], [30, 40, 50], [30, 72, 78], [32, 24, 40], [32, 60, 68], [33, 44, 55], [33, 56, 65], [35, 12, 37], [35, 84, 91], [36, 15, 39], [36, 27, 45], [36, 48, 60], [36, 77, 85], [39, 52, 65], [39, 80, 89], [40, 9, 41], [40, 30, 50], [40, 42, 58], [40, 75, 85], [42, 40, 58], [42, 56, 70], [44, 33, 55], [45, 24, 51], [45, 28, 53], [45, 60, 75], [48, 14, 50], [48, 20, 52], [48, 36, 60], [48, 55, 73], [48, 64, 80], [51, 68, 85], [52, 39, 65], [54, 72, 90], [55, 48, 73], [56, 33, 65], [56, 42, 70], [57, 76, 95], [60, 11, 61], [60, 25, 65], [60, 32, 68], [60, 45, 75], [60, 63, 87], [63, 16, 65], [63, 60, 87], [64, 48, 80], [65, 72, 97], [68, 51, 85], [70, 24, 74], [72, 21, 75], [72, 30, 78], [72, 54, 90], [72, 65, 97], [75, 40, 85], [76, 57, 95], [77, 36, 85], [80, 18, 82], [80, 39, 89], [84, 13, 85], [84, 35, 91]]\n"
     ]
    }
   ],
   "source": [
    "Pythagorean_triples = [[a,b,c] for a in range(1,100) for b in range(1,100) for c in range(1,100) if a**2+b**2-c**2==0]\n",
    "print(Pythagorean_triples)"
   ]
  },
  {
   "cell_type": "markdown",
   "metadata": {},
   "source": [
    "9\\. Normalization\n",
    "\n",
    "Write a function that takes a tuple of numbers and returns it with the entries normalized to one"
   ]
  },
  {
   "cell_type": "code",
   "execution_count": 30,
   "metadata": {},
   "outputs": [
    {
     "name": "stdout",
     "output_type": "stream",
     "text": [
      "<class 'tuple'> (1.0, 0.11764705882352941, 0.17647058823529413)\n"
     ]
    }
   ],
   "source": [
    "def tuple_normalization(tp):\n",
    "    l=list(tp)\n",
    "    \n",
    "    l = [i/max(l) for i in list(tp)]\n",
    "    return tuple(l)\n",
    "\n",
    "tp = tuple_normalization((17,2,3))\n",
    "print(type(tp),tp)"
   ]
  },
  {
   "cell_type": "code",
   "execution_count": null,
   "metadata": {},
   "outputs": [],
   "source": []
  }
 ],
 "metadata": {
  "kernelspec": {
   "display_name": "Python 3 (ipykernel)",
   "language": "python",
   "name": "python3"
  },
  "language_info": {
   "codemirror_mode": {
    "name": "ipython",
    "version": 3
   },
   "file_extension": ".py",
   "mimetype": "text/x-python",
   "name": "python",
   "nbconvert_exporter": "python",
   "pygments_lexer": "ipython3",
   "version": "3.9.18"
  }
 },
 "nbformat": 4,
 "nbformat_minor": 2
}
