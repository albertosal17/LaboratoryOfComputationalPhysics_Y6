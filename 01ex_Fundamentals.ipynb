{
 "cells": [
  {
   "cell_type": "markdown",
   "metadata": {},
   "source": [
    "0\\. Implement a function (whatever you want) and save it to a file (e.g. `function.py`). Import that file and use that function in this notebook.\n"
   ]
  },
  {
   "cell_type": "code",
   "execution_count": 5,
   "metadata": {},
   "outputs": [
    {
     "name": "stdout",
     "output_type": "stream",
     "text": [
      "AAAA= 4\n",
      "-> x**2= 16\n"
     ]
    }
   ],
   "source": [
    "from function import square\n",
    "\n",
    "square(4)\n"
   ]
  },
  {
   "cell_type": "markdown",
   "metadata": {},
   "source": [
    "1\\. Write the following as a list comprehension"
   ]
  },
  {
   "cell_type": "code",
   "execution_count": 9,
   "metadata": {},
   "outputs": [
    {
     "name": "stdout",
     "output_type": "stream",
     "text": [
      "[(0, 0), (0, 1), (0, 2), (0, 3), (1, 0), (1, 1), (1, 2), (1, 3), (2, 0), (2, 1), (2, 2), (2, 3)]\n",
      "[0, 4, 16]\n"
     ]
    }
   ],
   "source": [
    "# 1\n",
    "ans = []\n",
    "for i in range(3):\n",
    "    for j in range(4):\n",
    "        ans.append((i, j))\n",
    "print (ans)\n",
    "\n",
    "# 2\n",
    "ans = map(lambda x: x*x, filter(lambda x: x%2 == 0, range(5)))#filter seleziona i numeri pari, la mappa prende tutti i numeri selezionati e li eleva al quadrato\n",
    "print (list(ans))\n",
    "\n"
   ]
  },
  {
   "cell_type": "code",
   "execution_count": 12,
   "metadata": {},
   "outputs": [
    {
     "name": "stdout",
     "output_type": "stream",
     "text": [
      "[(0, 0), (0, 1), (0, 2), (0, 3), (1, 0), (1, 1), (1, 2), (1, 3), (2, 0), (2, 1), (2, 2), (2, 3)]\n",
      "[0, 4, 16]\n"
     ]
    }
   ],
   "source": [
    "sna=[(x,y) for x in range(3) for y in range(4)]\n",
    "print(sna)\n",
    "\n",
    "sma = [x*x for x in range(5) if x%2 ==0]\n",
    "print(sma)"
   ]
  },
  {
   "cell_type": "markdown",
   "metadata": {},
   "source": [
    "2\\. Convert the following function into a pure function with no global variables or side effects"
   ]
  },
  {
   "cell_type": "code",
   "execution_count": 16,
   "metadata": {},
   "outputs": [
    {
     "name": "stdout",
     "output_type": "stream",
     "text": [
      "[1, 2, 3, 0, 1, 2, 3, 4]\n",
      "[1, 2, 3, 0, 1, 2, 3, 4]\n"
     ]
    }
   ],
   "source": [
    "x = 5\n",
    "def f(alist):\n",
    "    for i in range(x):\n",
    "         alist.append(i)\n",
    "    return alist\n",
    "\n",
    "alist = [1,2,3]\n",
    "ans = f(alist)\n",
    "print (ans)\n",
    "print (alist) # alist has been changed!"
   ]
  },
  {
   "cell_type": "code",
   "execution_count": 6,
   "metadata": {},
   "outputs": [
    {
     "name": "stdout",
     "output_type": "stream",
     "text": [
      "[1, 2, 3, 0, 1, 2, 3, 4]\n",
      "[1, 2, 3, 0, 1, 2, 3, 4]\n"
     ]
    }
   ],
   "source": [
    "def f(alist):\n",
    "    \n",
    "    alist1 = [x for x in alist] \n",
    "    #ridefinendo una nuova lista che contenga esattamente gli stessi elementi di quella \n",
    "    #passata alla funzione posso eseguire delle modifiche che non si ripercuotono all'esterno\n",
    "    #dello scope della funzione\n",
    "    \n",
    "    for i in range(5):\n",
    "        alist1.append(i)\n",
    "    return alist1\n",
    "    \n",
    "alist = [1,2,3]\n",
    "ans = f(alist)\n",
    "print (ans)\n",
    "print (alist)\n",
    "        "
   ]
  },
  {
   "cell_type": "markdown",
   "metadata": {},
   "source": [
    "3\\. Write a `decorator` hello that makes every wrapped function print “Hello!”, i.e. something like:\n",
    "\n",
    "```python\n",
    "@hello\n",
    "def square(x):\n",
    "    return x*x\n",
    "```\n",
    "\n"
   ]
  },
  {
   "cell_type": "code",
   "execution_count": 11,
   "metadata": {},
   "outputs": [
    {
     "name": "stdout",
     "output_type": "stream",
     "text": [
      "Hello!\n",
      "4\n",
      "Hello!\n",
      "8\n"
     ]
    }
   ],
   "source": [
    "#The solution is to use *args and **kwargs in the inner wrapper function. \n",
    "#Then it will accept an arbitrary number of positional and keyword arguments. \n",
    "def hello(f):\n",
    "    def wrapper(*args): #*args can be really useful, because it allows you to pass a varying number of positional arguments.\n",
    "        print(\"Hello!\")\n",
    "        f(*args)\n",
    "    return wrapper\n",
    "\n",
    "def square(x):\n",
    "    print(x*x)\n",
    "\n",
    "square = hello(square)\n",
    "\n",
    "@hello\n",
    "def cube(x):\n",
    "    print(x**3)\n",
    "\n",
    "square(2)\n",
    "cube(2)"
   ]
  },
  {
   "cell_type": "markdown",
   "metadata": {},
   "source": [
    "4\\. Write the factorial function so that it a) does and b) does not use recursion."
   ]
  },
  {
   "cell_type": "code",
   "execution_count": 22,
   "metadata": {},
   "outputs": [
    {
     "name": "stdout",
     "output_type": "stream",
     "text": [
      "1 \t 1 \t 1\n",
      "1 \t 1 \t 1\n",
      "2 \t 2 \t 2\n",
      "6 \t 6 \t 6\n",
      "24 \t 24 \t 24\n",
      "120 \t 120 \t 120\n",
      "720 \t 720 \t 720\n",
      "5040 \t 5040 \t 5040\n",
      "40320 \t 40320 \t 40320\n"
     ]
    }
   ],
   "source": [
    "def factorial_recursion(n): #a recursive function it is a function that calls itself\n",
    "    if n==1 or n==0: \n",
    "        return 1\n",
    "    else: \n",
    "        return factorial_recursion(n-1)*n\n",
    "\n",
    "def factorial_no_recursion(n):\n",
    "    j=1\n",
    "    for i in range(1,n+1):\n",
    "        j*=i\n",
    "    return j\n",
    "\n",
    "import math\n",
    "\n",
    "for i in range(9):\n",
    "    print(math.factorial(i), '\\t', factorial_recursion(i), '\\t', factorial_no_recursion(i))\n"
   ]
  },
  {
   "cell_type": "markdown",
   "metadata": {},
   "source": [
    "5\\. Use HOFs (zip in particular) to compute the weight of a circle, a disk and a sphere, assuming different radii and different densities:\n",
    "\n",
    "```python\n",
    "densities = {\"Al\":[0.5,1,2],\"Fe\":[3,4,5],\"Pb\": [15,20,30]}\n",
    "radii = [1,2,3]\n",
    "```\n",
    "\n",
    "where the entries of the dictionary's values are the linear, superficial and volumetric densities of the materials respectively.\n",
    "\n",
    "In particular define a list of three lambda functions using a comprehension that computes the circumference, the area and the volume for a given radius.\n"
   ]
  },
  {
   "cell_type": "code",
   "execution_count": 30,
   "metadata": {},
   "outputs": [
    {
     "name": "stdout",
     "output_type": "stream",
     "text": [
      "Al\n",
      "\t r= 1 -> m= 3.141592653589793 kg\n",
      "\t r= 2 -> m= 3.141592653589793 kg\n",
      "\t r= 3 -> m= 8.377580409572781 kg\n",
      "Fe\n",
      "\t r= 1 -> m= 37.69911184307752 kg\n",
      "\t r= 2 -> m= 50.26548245743669 kg\n",
      "\t r= 3 -> m= 167.5516081914556 kg\n",
      "Pb\n",
      "\t r= 1 -> m= 282.7433388230814 kg\n",
      "\t r= 2 -> m= 565.4866776461628 kg\n",
      "\t r= 3 -> m= 3392.920065876976 kg\n"
     ]
    }
   ],
   "source": [
    "from numpy import pi \n",
    "\n",
    "densities = {\"Al\":[0.5,1,2],\"Fe\":[3,4,5],\"Pb\": [15,20,30]}\n",
    "radii = [1,2,3]\n",
    "\n",
    "funcs = [lambda r: 2*pi*r, lambda r: pi*r**2, lambda r: (4/3)*pi*r**3] \n",
    "volumes = [[f(r) for f in funcs] for r in radii]\n",
    "\n",
    "\n",
    "    \n",
    "for j,k in zip(volumes,densities): \n",
    "    print(k)\n",
    "    i=0\n",
    "    for l,m in zip(j,densities[k]):\n",
    "            print(\"\\t r=\", radii[i], \"-> m=\", l*m, \"kg\")\n",
    "            i += 1 \n",
    "            \n",
    " #P.S. SI PUO' FARE DI MEGLIO\n",
    "    \n"
   ]
  },
  {
   "cell_type": "markdown",
   "metadata": {},
   "source": [
    "6\\. Edit the class defintion to add an instance attribute of is_hungry = True to the Dog class. Then add a method called eat() which changes the value of is_hungry to False when called. Figure out the best way to feed each dog and then output “My dogs are hungry.” if all are hungry or “My dogs are not hungry.” if all are not hungry. The final output should look like this:\n",
    "\n",
    "`I have 3 dogs. \n",
    "Tom is 6. \n",
    "Fletcher is 7. \n",
    "Larry is 9. \n",
    "And they're all mammals, of course. \n",
    "My dogs are not hungry.\n",
    "`\n",
    "\n",
    "```python\n",
    "# Parent class\n",
    "class Dog:\n",
    "\n",
    "    # Class attribute\n",
    "    species = 'mammal'\n",
    "\n",
    "    # Initializer / Instance attributes\n",
    "    def __init__(self, name, age):\n",
    "        self.name = name\n",
    "        self.age = age\n",
    "\n",
    "    # instance method\n",
    "    def description(self):\n",
    "        return \"{} is {} years old\".format(self.name, self.age)\n",
    "\n",
    "    # instance method\n",
    "    def speak(self, sound):\n",
    "        return \"{} says {}\".format(self.name, sound)\n",
    "\n",
    "# Child class (inherits from Dog class)\n",
    "class RussellTerrier(Dog):\n",
    "    def run(self, speed):\n",
    "        return \"{} runs {}\".format(self.name, speed)\n",
    "\n",
    "# Child class (inherits from Dog class)\n",
    "class Bulldog(Dog):\n",
    "    def run(self, speed):\n",
    "        return \"{} runs {}\".format(self.name, speed)\n",
    "```"
   ]
  },
  {
   "cell_type": "code",
   "execution_count": 13,
   "metadata": {},
   "outputs": [],
   "source": [
    "\n",
    "# Parent class\n",
    "class Dog:\n",
    "\n",
    "    # Class attribute\n",
    "    species = 'mammal'\n",
    "\n",
    "    # Initializer / Instance attributes\n",
    "    def __init__(self, name, age):\n",
    "        self.is_hungry = True\n",
    "        self.name = name\n",
    "        self.age = age\n",
    "\n",
    "    # instance method\n",
    "    def description(self):\n",
    "        return \"{} is {} years old\".format(self.name, self.age)\n",
    "    \n",
    "    def eat(self):\n",
    "        self.is_hungry = False\n",
    "\n",
    "    # instance method\n",
    "    def speak(self, sound):\n",
    "        return \"{} says {}\".format(self.name, sound)\n",
    "\n",
    "# Child class (inherits from Dog class)\n",
    "class RussellTerrier(Dog):\n",
    "    def run(self, speed):\n",
    "        return \"{} runs {}\".format(self.name, speed)\n",
    "\n",
    "# Child class (inherits from Dog class)\n",
    "class Bulldog(Dog):\n",
    "    def run(self, speed):\n",
    "        return \"{} runs {}\".format(self.name, speed)"
   ]
  },
  {
   "cell_type": "code",
   "execution_count": 27,
   "metadata": {},
   "outputs": [
    {
     "name": "stdout",
     "output_type": "stream",
     "text": [
      "Daisy says WOF\n",
      "Daisy ha fame?  True\n",
      "Daisy ha mangiato.\n",
      "Daisy ha ancora fame?  False\n",
      "Diego says BAU\n",
      "Diego runs 300000 mph\n"
     ]
    }
   ],
   "source": [
    "Daisy = Dog(\"Daisy\",6)\n",
    "print(Daisy.speak(\"WOF\"))\n",
    "print(\"Daisy ha fame? \", Daisy.is_hungry)\n",
    "Daisy.eat()\n",
    "print(\"Daisy ha mangiato.\")\n",
    "print(\"Daisy ha ancora fame? \", Daisy.is_hungry)\n",
    "\n",
    "Diego = RussellTerrier(\"Diego\",10)\n",
    "print(Diego.speak(\"BAU\"))\n",
    "print(Diego.run(\"300000 mph\"))\n",
    "\n"
   ]
  },
  {
   "cell_type": "code",
   "execution_count": 24,
   "metadata": {},
   "outputs": [
    {
     "name": "stdout",
     "output_type": "stream",
     "text": [
      "My dogs are hungry\n",
      "My dogs are not hungry\n"
     ]
    }
   ],
   "source": [
    "def feeder(my_pets):\n",
    "    for pet in my_pets: \n",
    "        pet.eat()\n",
    "\n",
    "\n",
    "def hungry_checker(my_pets):\n",
    "\n",
    "    hungryness_pets = []\n",
    "    for pet in my_pets: \n",
    "        hungryness_pets.append(pet.is_hungry)\n",
    "    \n",
    "    overall_hungryness = True\n",
    "    for b in hungryness_pets:\n",
    "        overall_hungryness = b and overall_hungryness\n",
    "    \n",
    "    if overall_hungryness == True: print(\"My dogs are hungry\")\n",
    "    elif overall_hungryness == False: print(\"My dogs are not hungry\")\n",
    "\n",
    "    return\n",
    "\n",
    "gino = Bulldog(\"Gino\",4)\n",
    "pino = Bulldog(\"Pino\",7)\n",
    "my_pets = [gino, pino]\n",
    "\n",
    "hungry_checker(my_pets)\n",
    "feeder(my_pets)\n",
    "hungry_checker(my_pets)\n",
    "\n"
   ]
  }
 ],
 "metadata": {
  "celltoolbar": "Tags",
  "kernelspec": {
   "display_name": "Python 3 (ipykernel)",
   "language": "python",
   "name": "python3"
  },
  "language_info": {
   "codemirror_mode": {
    "name": "ipython",
    "version": 3
   },
   "file_extension": ".py",
   "mimetype": "text/x-python",
   "name": "python",
   "nbconvert_exporter": "python",
   "pygments_lexer": "ipython3",
   "version": "3.9.18"
  }
 },
 "nbformat": 4,
 "nbformat_minor": 2
}
