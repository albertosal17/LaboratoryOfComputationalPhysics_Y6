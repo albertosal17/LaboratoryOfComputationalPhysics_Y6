{
 "cells": [
  {
   "cell_type": "markdown",
   "id": "fbd8cd4c",
   "metadata": {},
   "source": [
    "    ## 00 INTRODUCTION\n",
    "    "
   ]
  },
  {
   "cell_type": "code",
   "execution_count": null,
   "id": "39046c20",
   "metadata": {},
   "outputs": [],
   "source": [
    "print(\"Art: %5d, Price per unit: %8.1f\"% (453, 59.058))"
   ]
  },
  {
   "cell_type": "markdown",
   "metadata": {},
   "source": [
    "\"cast\" a variable: changing the type with functions like int(), float(), .."
   ]
  },
  {
   "cell_type": "code",
   "execution_count": 3,
   "metadata": {},
   "outputs": [
    {
     "name": "stdout",
     "output_type": "stream",
     "text": [
      "1\n",
      "0\n",
      "81\n",
      "81\n"
     ]
    }
   ],
   "source": [
    "print(3 % 4) #resto divisione\n",
    "print(3 // 4)\n",
    "print(3**4)\n",
    "print(pow(3, 4))"
   ]
  },
  {
   "cell_type": "markdown",
   "metadata": {},
   "source": [
    "Enumerate function takes as input a list and return an object holding couples of index-element of the list at that index"
   ]
  },
  {
   "cell_type": "code",
   "execution_count": null,
   "metadata": {},
   "outputs": [],
   "source": [
    "for i, j in enumerate([4,5,2,7]): print(i,j)"
   ]
  },
  {
   "cell_type": "code",
   "execution_count": null,
   "id": "2df82408",
   "metadata": {},
   "outputs": [],
   "source": [
    "a = \"1\"\n",
    "try:\n",
    "    b = a + 2\n",
    "    print (b)\n",
    "except:\n",
    "    print(a, \" is not a number\")"
   ]
  },
  {
   "cell_type": "markdown",
   "metadata": {},
   "source": [
    "function can edit \"global\" variables as well, i.e. variables that are declared outside the function scope. To do so the statement ```global``` is used"
   ]
  },
  {
   "cell_type": "code",
   "execution_count": null,
   "id": "dd7aee59",
   "metadata": {},
   "outputs": [],
   "source": [
    "x = \"awesome\"\n",
    "\n",
    "def myfunc():\n",
    "  global x \n",
    "  x = \"fantastic\"\n",
    "\n",
    "myfunc()\n",
    "\n",
    "print(\"Python is \" + x)"
   ]
  },
  {
   "attachments": {
    "image.png": {
     "image/png": "[encoded data removed]"
    }
   },
   "cell_type": "markdown",
   "id": "ec267f02",
   "metadata": {},
   "source": [
    "![image.png](attachment:image.png)\n",
    "[slicing operand detailed explanation](https://www.freecodecamp.org/news/what-does-mean-in-python-operator-meaning-for-double-colon/)\n",
    "\n",
    "strings are lists and feature all operations permitted on lists, comprehensions as well\n"
   ]
  },
  {
   "cell_type": "code",
   "execution_count": null,
   "id": "ec84008b",
   "metadata": {},
   "outputs": [],
   "source": [
    "a = [7, 5, 3, 4, 10]\n",
    "print(a[:3])\n",
    "print(a[3:])\n",
    "print(a[-3:])\n",
    "print(a[1::3])\n",
    "\n",
    "\n",
    "a.insert(0, 0) # position, value\n",
    "print(a)\n",
    "a.reverse()\n",
    "print(a)\n",
    "a.sort()\n",
    "print(a)\n",
    "a.pop()\n",
    "print(a)\n",
    "a.remove(3) # value\n",
    "print(a)\n",
    "a.remove(a[4])\n",
    "print(a)"
   ]
  },
  {
   "cell_type": "code",
   "execution_count": null,
   "id": "1eb3ebfa",
   "metadata": {},
   "outputs": [],
   "source": [
    "even_numbers = [x**2 for x in range(20) if x % 2 == 0]\n",
    "print(even_numbers)"
   ]
  },
  {
   "cell_type": "markdown",
   "id": "d14b07c2",
   "metadata": {},
   "source": [
    "Tuples are like lists with one very important difference. Tuples are not changeable."
   ]
  },
  {
   "cell_type": "markdown",
   "id": "132d679b",
   "metadata": {},
   "source": [
    "Dictionaries are unordered, keyed lists. Lists are ordered, and the index may be viewed as a key."
   ]
  },
  {
   "cell_type": "markdown",
   "id": "c9679cba",
   "metadata": {},
   "source": [
    "    ## 01 FUNDAMENTALS\n",
    "    "
   ]
  },
  {
   "cell_type": "markdown",
   "id": "d9cfd9d3",
   "metadata": {},
   "source": [
    "What is passsed to a function is a copy of the input (nel senso che è l'oggetto stesso, non uno diverso: se lo modifichi dentro la funzione viene modificato anche l'oggetto originale). However, if *x* is reassigned within the function to a new object, then the copy of the name *x* now points to the new object, but *x* outside the function is unhcanged."
   ]
  },
  {
   "cell_type": "code",
   "execution_count": 2,
   "id": "85edeaac",
   "metadata": {},
   "outputs": [
    {
     "name": "stdout",
     "output_type": "stream",
     "text": [
      "[1]\n",
      "[1, 1]\n",
      "[9, 9, 9, 1]\n",
      "[1, 1, 1]\n",
      "[1, 1, 1, 1]\n",
      "\n",
      "\n",
      "\n",
      "[1]\n",
      "[1]\n",
      "[9, 9, 9, 1]\n",
      "[1]\n",
      "[1]\n"
     ]
    }
   ],
   "source": [
    "def f(x = []):\n",
    "    x.append(1)\n",
    "    return x\n",
    "\n",
    "print (f())\n",
    "print (f()) #binding of default arguments\n",
    "print (f(x = [9,9,9]))\n",
    "print (f())\n",
    "print (f())\n",
    "\n",
    "print(\"\\n\\n\")\n",
    "def f(x = None):\n",
    "    if x is None:\n",
    "        x = []\n",
    "    x.append(1)\n",
    "    return x\n",
    "\n",
    "print (f())\n",
    "print (f())\n",
    "print (f(x = [9,9,9]))\n",
    "print (f())\n",
    "print (f())"
   ]
  },
  {
   "cell_type": "markdown",
   "id": "8357bf60",
   "metadata": {},
   "source": [
    "DEF:(High Order Function)=A function that takes as input/return as output another function i.e. maps, filters, zips\n",
    "\n",
    "Iterators represent streams of values.  Since only one value is consumed at a time, they use very little memory.\n",
    "\n",
    "Iterators can be created from sequences with the built-in function iter()\n",
    "\n",
    "\n"
   ]
  },
  {
   "cell_type": "code",
   "execution_count": 1,
   "id": "d1b5e6bf",
   "metadata": {},
   "outputs": [
    {
     "name": "stdout",
     "output_type": "stream",
     "text": [
      "1\n",
      "2\n",
      "3\n"
     ]
    },
    {
     "ename": "StopIteration",
     "evalue": "",
     "output_type": "error",
     "traceback": [
      "\u001b[1;31m---------------------------------------------------------------------------\u001b[0m",
      "\u001b[1;31mStopIteration\u001b[0m                             Traceback (most recent call last)",
      "Cell \u001b[1;32mIn[1], line 7\u001b[0m\n\u001b[0;32m      5\u001b[0m \u001b[38;5;28mprint\u001b[39m (\u001b[38;5;28mnext\u001b[39m(x_iter))\n\u001b[0;32m      6\u001b[0m \u001b[38;5;28mprint\u001b[39m (\u001b[38;5;28mnext\u001b[39m(x_iter))\n\u001b[1;32m----> 7\u001b[0m \u001b[38;5;28mprint\u001b[39m (\u001b[38;5;28;43mnext\u001b[39;49m\u001b[43m(\u001b[49m\u001b[43mx_iter\u001b[49m\u001b[43m)\u001b[49m)\n",
      "\u001b[1;31mStopIteration\u001b[0m: "
     ]
    }
   ],
   "source": [
    "xs = [1,2,3]\n",
    "x_iter = iter(xs)\n",
    "\n",
    "print (next(x_iter))\n",
    "print (next(x_iter))\n",
    "print (next(x_iter))\n",
    "print (next(x_iter))"
   ]
  },
  {
   "cell_type": "markdown",
   "id": "bff6a25f",
   "metadata": {},
   "source": [
    "    ## 01 NUMPY"
   ]
  },
  {
   "cell_type": "markdown",
   "id": "74ebfe1f",
   "metadata": {},
   "source": [
    "Alcune operazioni di base"
   ]
  },
  {
   "cell_type": "code",
   "execution_count": 1,
   "id": "98dff58a",
   "metadata": {},
   "outputs": [
    {
     "name": "stdout",
     "output_type": "stream",
     "text": [
      "[1. 2. 3.] float64 \n",
      "\n",
      "rank: 1\n",
      "[0, 1, 2, 3] <class 'list'>\n",
      "default 2D concatenation: \n",
      " [[1 2]\n",
      " [3 4]\n",
      " [5 6]\n",
      " [7 8]] \n",
      "\n",
      "concatenation along the first axis: \n",
      " [[1 2]\n",
      " [3 4]\n",
      " [5 6]\n",
      " [7 8]] \n",
      "\n",
      "concatenation along the second axis: \n",
      " [[1 2 5 6]\n",
      " [3 4 7 8]] \n",
      "\n"
     ]
    }
   ],
   "source": [
    "import numpy as np\n",
    "\n",
    "a = np.arange(1000)\n",
    "\n",
    "a = np.array([1, 2, 3], 'float64')\n",
    "print(a, a.dtype, '\\n')\n",
    "\n",
    "print(\"rank:\", a.ndim)\n",
    "\n",
    "\n",
    "l = [0, 1, 2, 3]\n",
    "a = np.array(l)\n",
    "print(a.tolist(), type(a.tolist()))\n",
    "\n",
    "a = np.array([[1, 2], [3, 4]])\n",
    "b = np.array([[5, 6], [7, 8]])\n",
    "# if no axis is specified, concatenations occurs on the 1st dimension\n",
    "print(\"default 2D concatenation:\",'\\n', np.concatenate((a, b)),'\\n')\n",
    "print(\"concatenation along the first axis:\",'\\n', np.concatenate((a, b), axis=0), '\\n')\n",
    "print(\"concatenation along the second axis:\",'\\n', np.concatenate((a, b), axis=1), '\\n')\n",
    "\n",
    "\n",
    "a = np.array([1, 2, 3])\n",
    "b = a # this is a view\n",
    "c = a.copy() # this is a copy\n",
    "\n"
   ]
  },
  {
   "cell_type": "markdown",
   "id": "b2bac674",
   "metadata": {},
   "source": [
    "A slicing operation creates a **view** on the original array\n",
    "\n",
    "The masks method is called fancy indexing, and it creates **copies**, not views."
   ]
  },
  {
   "cell_type": "code",
   "execution_count": 2,
   "id": "0e00c6f2",
   "metadata": {},
   "outputs": [
    {
     "name": "stdout",
     "output_type": "stream",
     "text": [
      "original array: [ 0  2  4  6  8 10 12 14 16 18 20] \n",
      "\n",
      "the mask: [ True False False  True False False  True False False  True False] \n",
      "\n",
      "the filtered array: [ 0  6 12 18] \n",
      "\n"
     ]
    }
   ],
   "source": [
    "a = np.arange(0, 21, 2)\n",
    "print(\"original array:\", a,'\\n')\n",
    "\n",
    "mask = (a % 3 == 0)\n",
    "print(\"the mask:\", mask,'\\n')\n",
    "\n",
    "filtered_a = a[mask]\n",
    "# equivalent to a[a%3==0]\n",
    "print(\"the filtered array:\", filtered_a,'\\n')\n",
    "\n",
    "print(\"Are a and filtered_a the same object?\", np.may_share_memory(a, filtered_a), '\\n')\n"
   ]
  },
  {
   "cell_type": "markdown",
   "id": "b51895ad",
   "metadata": {},
   "source": [
    "Operations are made bitwise"
   ]
  },
  {
   "cell_type": "code",
   "execution_count": 4,
   "id": "0e5c2968",
   "metadata": {},
   "outputs": [
    {
     "name": "stdout",
     "output_type": "stream",
     "text": [
      "the \"*\" product:  \n",
      " [[1. 0. 0.]\n",
      " [0. 1. 0.]\n",
      " [0. 0. 1.]] \n",
      "\n",
      "the proper matrix product:  \n",
      " [[1. 1. 1.]\n",
      " [1. 1. 1.]\n",
      " [1. 1. 1.]] \n",
      "\n"
     ]
    }
   ],
   "source": [
    "ones = np.ones((3,3))\n",
    "print ('the \"*\" product: ','\\n',ones*np.eye(3),'\\n')\n",
    "print ('the proper matrix product: ','\\n',ones.dot(np.eye(3)),'\\n')"
   ]
  },
  {
   "cell_type": "markdown",
   "id": "de642d04",
   "metadata": {},
   "source": [
    "Functions of arrays"
   ]
  },
  {
   "cell_type": "code",
   "execution_count": 5,
   "id": "049c77bc",
   "metadata": {},
   "outputs": [
    {
     "name": "stdout",
     "output_type": "stream",
     "text": [
      "sin: [ 0.84147098  0.90929743  0.14112001 -0.7568025  -0.95892427 -0.2794155\n",
      "  0.6569866   0.98935825]\n",
      "log: [0.         0.69314718 1.09861229 1.38629436 1.60943791 1.79175947\n",
      " 1.94591015 2.07944154]\n",
      "exp: [[2.71828183e+00 7.38905610e+00 2.00855369e+01 5.45981500e+01]\n",
      " [1.48413159e+02 4.03428793e+02 1.09663316e+03 2.98095799e+03]]\n"
     ]
    }
   ],
   "source": [
    "# mathematical functions re-implemented in numpy\n",
    "a = np.arange(1, 9)\n",
    "print(\"sin:\", np.sin(a))\n",
    "print(\"log:\", np.log(a))\n",
    "\n",
    "# works all dimensions\n",
    "m = a.reshape(2, 4)\n",
    "print(\"exp:\", np.exp(m))"
   ]
  },
  {
   "cell_type": "code",
   "execution_count": null,
   "id": "b0643b84",
   "metadata": {},
   "outputs": [],
   "source": []
  }
 ],
 "metadata": {
  "kernelspec": {
   "display_name": "Python 3 (ipykernel)",
   "language": "python",
   "name": "python3"
  },
  "language_info": {
   "codemirror_mode": {
    "name": "ipython",
    "version": 3
   },
   "file_extension": ".py",
   "mimetype": "text/x-python",
   "name": "python",
   "nbconvert_exporter": "python",
   "pygments_lexer": "ipython3",
   "version": "3.9.18"
  }
 },
 "nbformat": 4,
 "nbformat_minor": 5
}
