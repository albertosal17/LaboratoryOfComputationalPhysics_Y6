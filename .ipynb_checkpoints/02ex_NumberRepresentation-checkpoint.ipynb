{
 "cells": [
  {
   "cell_type": "markdown",
   "metadata": {},
   "source": [
    "1\\. Write a function that converts number representation, bin<->dec<->hex. (Clearly using the corresponding python built-in functions is not fair..)"
   ]
  },
  {
   "cell_type": "code",
   "execution_count": 8,
   "metadata": {},
   "outputs": [
    {
     "name": "stdout",
     "output_type": "stream",
     "text": [
      "15\n"
     ]
    }
   ],
   "source": [
    "def stringtonumber(s,j):\n",
    "    \n",
    "    #caso binario\n",
    "    if s[1]=='b': \n",
    "            match j:\n",
    "                case '0': j=0\n",
    "                case '1': j=1\n",
    "    \n",
    "    #caso esadecimale\n",
    "    elif s[1]=='x': \n",
    "            match j:\n",
    "                case '0': j=0\n",
    "                case '1': j=1 \n",
    "                case '2': j=2 \n",
    "                case '3': j=3 \n",
    "                case '4': j=4 \n",
    "                case '5': j=5 \n",
    "                case '6': j=6 \n",
    "                case '7': j=7 \n",
    "                case '8': j=8 \n",
    "                case '9': j=9 \n",
    "                case 'a': j=10 \n",
    "                case 'b': j=11\n",
    "                case 'c': j=12\n",
    "                case 'd': j=13\n",
    "                case 'e': j=14\n",
    "                case 'f': j=15\n",
    "    return j\n",
    "                    \n",
    "\n",
    "\n",
    "def converter(s, t): #s il numero in formato stringa, t il tipo in cui convertire\n",
    "    \n",
    "    #conversione binario->decimale (usa formato 0b1010...)\n",
    "    if s[1]=='b' and t==\"dec\":\n",
    "        \n",
    "        x=s[2:len(s)] #tronco la parte della stringa relativa alla tipologia di numero      \n",
    "        \n",
    "        #inizializzazioni\n",
    "        d=0 \n",
    "        n=0\n",
    "        l=len(x)\n",
    "        \n",
    "        #applico la formula di conversione\n",
    "        for j in x: #scorre i bit da sinistra a destra\n",
    "            i=stringtonumber(s,j)\n",
    "            \n",
    "            d+=i*2**(l-(n+1)) \n",
    "            \n",
    "            n=n+1\n",
    "        \n",
    "        #stampo il risultato\n",
    "        print(d)\n",
    "        \n",
    "        \n",
    "    #conversione esadecimale->decimale (usa formato 0x19c0...)\n",
    "    elif s[1]=='x' and t==\"dec\":  \n",
    "        \n",
    "        x=s[2:len(s)]#tronco la parte della stringa relativa alla tipologia di numero      \n",
    "        \n",
    "        #inizializzazioni\n",
    "        d=0 \n",
    "        n=0\n",
    "        l=len(x)\n",
    "        \n",
    "        #applico la formula di conversione\n",
    "        for j in x:\n",
    "            \n",
    "            i=stringtonumber(s,j)\n",
    "\n",
    "            d+=i*16**(l-(n+1))\n",
    "\n",
    "            n=n+1\n",
    "        \n",
    "        #stampo il risultato\n",
    "        print(d) \n",
    "        \n",
    "    #conversione decimale->binario \n",
    "    ########################\n",
    "    \n",
    "    #conversione decimale->esadecimale \n",
    "    ########################\n",
    "    \n",
    "    #se non ho inserito gli argomenti in modo corretto\n",
    "    else:print(\"error\")  \n",
    "\n",
    "        \n",
    "        \n",
    "converter('0b01111','dec')\n",
    "    \n",
    "    \n",
    "    "
   ]
  },
  {
   "cell_type": "markdown",
   "metadata": {},
   "source": [
    "2\\. Write a function that converts a 32 bit word into a single precision floating point (i.e. interprets the various bits as sign, mantissa and exponent)"
   ]
  },
  {
   "cell_type": "markdown",
   "metadata": {},
   "source": [
    "3\\. Write a program to determine the underflow and overflow limits (within a factor of 2) for python on your computer. \n",
    "\n",
    "**Tips**: define two variables inizialized to 1 and halve/double them enough time to exceed the under/over-flow limits  "
   ]
  },
  {
   "cell_type": "markdown",
   "metadata": {},
   "source": [
    "4\\. Write a program to determine the machine precision\n",
    "\n",
    "**Tips**: define a new variable by adding a smaller and smaller value (proceeding similarly to prob. 2) to an original variable and check the point where the two are the same "
   ]
  },
  {
   "cell_type": "markdown",
   "metadata": {},
   "source": [
    "5\\. Write a function that takes in input three parameters $a$, $b$ and $c$ and prints out the two solutions to the quadratic equation $ax^2+bx+c=0$ using the standard formula:\n",
    "$$\n",
    "x=\\frac{-b\\pm\\sqrt{b^2-4ac}}{2a}\n",
    "$$\n",
    "\n",
    "(a) use the program to compute the solution for $a=0.001$, $b=1000$ and $c=0.001$\n",
    "\n",
    "(b) re-express the standard solution formula by multiplying top and bottom by $-b\\mp\\sqrt{b^2-4ac}$ and again find the solution for $a=0.001$, $b=1000$ and $c=0.001$. How does it compare with what previously obtained? Why?\n",
    "\n",
    "(c) write a function that compute the roots of a quadratic equation accurately in all cases"
   ]
  },
  {
   "cell_type": "markdown",
   "metadata": {},
   "source": [
    "6\\. Write a program that implements the function $f(x)=x(x−1)$\n",
    "\n",
    "(a) Calculate the derivative of the function at the point $x = 1$ using the derivative definition:\n",
    "\n",
    "$$\n",
    "\\frac{{\\rm d}f}{{\\rm d}x} = \\lim_{\\delta\\to0} \\frac{f(x+\\delta)-f(x)}{\\delta}\n",
    "$$\n",
    "\n",
    "with $\\delta = 10^{−2}$. Calculate the true value of the same derivative analytically and compare with the answer your program gives. The two will not agree perfectly. Why not?\n",
    "\n",
    "(b) Repeat the calculation for $\\delta = 10^{−4}, 10^{−6}, 10^{−8}, 10^{−10}, 10^{−12}$ and $10^{−14}$. How does the accuracy scales with $\\delta$?"
   ]
  },
  {
   "cell_type": "markdown",
   "metadata": {},
   "source": [
    "7\\. Consider the integral of the semicircle of radius 1:\n",
    "$$\n",
    "I=\\int_{-1}^{1} \\sqrt(1-x^2) {\\rm d}x\n",
    "$$\n",
    "which it's known to be $I=\\frac{\\pi}{2}=1.57079632679...$.\n",
    "Alternatively we can use the Riemann definition of the integral:\n",
    "$$\n",
    "I=\\lim_{N\\to\\infty} \\sum_{k=1}^{N} h y_k \n",
    "$$\n",
    "\n",
    "with $h=2/N$ the width of each of the $N$ slices the domain is divided into and where\n",
    "$y_k$ is the value of the function at the $k-$th slice.\n",
    "\n",
    "(a) Write a programe to compute the integral with $N=100$. How does the result compares to the true value?\n",
    "\n",
    "(b) How much can $N$ be increased if the computation needs to be run in less than a second? What is the gain in running it for 1 minute? \n"
   ]
  },
  {
   "cell_type": "code",
   "execution_count": null,
   "metadata": {},
   "outputs": [],
   "source": []
  }
 ],
 "metadata": {
  "kernelspec": {
   "display_name": "Python 3 (ipykernel)",
   "language": "python",
   "name": "python3"
  },
  "language_info": {
   "codemirror_mode": {
    "name": "ipython",
    "version": 3
   },
   "file_extension": ".py",
   "mimetype": "text/x-python",
   "name": "python",
   "nbconvert_exporter": "python",
   "pygments_lexer": "ipython3",
   "version": "3.11.5"
  }
 },
 "nbformat": 4,
 "nbformat_minor": 2
}
