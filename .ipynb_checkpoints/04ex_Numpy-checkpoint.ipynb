{
 "cells": [
  {
   "cell_type": "markdown",
   "metadata": {},
   "source": [
    "### Numpy basics"
   ]
  },
  {
   "cell_type": "markdown",
   "metadata": {},
   "source": [
    "1\\. Find the row, column and overall means for the following matrix:\n",
    "\n",
    "```python\n",
    "m = np.arange(12).reshape((3,4))\n",
    "```"
   ]
  },
  {
   "cell_type": "code",
   "execution_count": 16,
   "metadata": {},
   "outputs": [
    {
     "name": "stdout",
     "output_type": "stream",
     "text": [
      "[[ 0  1  2  3]\n",
      " [ 4  5  6  7]\n",
      " [ 8  9 10 11]] \n",
      "\n",
      "1.5 5.5 9.5 \n",
      "\n",
      "4.0 5.0 6.0 7.0 \n",
      "\n",
      "5.5\n"
     ]
    }
   ],
   "source": [
    "import numpy as np \n",
    "rows=3\n",
    "clmn=4\n",
    "rng=12\n",
    "m = np.arange(rng).reshape((rows,clmn))\n",
    "\n",
    "m_r0=(m[0,:]).sum()/clmn\n",
    "m_r1=(m[1,:]).sum()/clmn\n",
    "m_r2=(m[2,:]).sum()/clmn\n",
    "\n",
    "m_c0=(m[:,0]).sum()/rows\n",
    "m_c1=(m[:,1]).sum()/rows\n",
    "m_c2=(m[:,2]).sum()/rows\n",
    "m_c3=(m[:,3]).sum()/rows\n",
    "\n",
    "m_oa=m.sum()/rng\n",
    "\n",
    "print(m,'\\n')\n",
    "print(m_r0,m_r1,m_r2,'\\n')\n",
    "print(m_c0,m_c1,m_c2,m_c3,'\\n')\n",
    "print(m_oa)"
   ]
  },
  {
   "cell_type": "markdown",
   "metadata": {},
   "source": [
    "2\\. Find the outer product of the following two vecotrs\n",
    "\n",
    "wiki: outer product is the mxn matrix obtained by multiplying each element of u by each element of v \n",
    "\n",
    "```python\n",
    "u = np.array([1,3,5,7])\n",
    "v = np.array([2,4,6,8])\n",
    "```\n",
    "\n",
    "Do this in the following ways:\n",
    "\n",
    "   * Using the function outer in numpy\n",
    "   * Using a nested for loop or list comprehension\n",
    "   * Using numpy broadcasting operatoins\n"
   ]
  },
  {
   "cell_type": "code",
   "execution_count": 40,
   "metadata": {},
   "outputs": [
    {
     "name": "stdout",
     "output_type": "stream",
     "text": [
      "[[ 2 12 30 56]\n",
      " [ 2 12 30 56]\n",
      " [ 2 12 30 56]\n",
      " [ 2 12 30 56]]\n",
      "[[ 2  4  6  8]\n",
      " [ 6 12 18 24]\n",
      " [10 20 30 40]\n",
      " [14 28 42 56]] \n",
      "\n",
      "[[ 2  4  6  8]\n",
      " [ 6 12 18 24]\n",
      " [10 20 30 40]\n",
      " [14 28 42 56]] \n",
      "\n"
     ]
    }
   ],
   "source": [
    "u = np.array([1,3,5,7])\n",
    "v = np.array([2,4,6,8])\n",
    "\n",
    "#Using the function outer in numpy\n",
    "op1=np.outer(u,v) \n",
    "\n",
    "#Using a nested for loop or list comprehension\n",
    "op2_1=[] #from a list\n",
    "for i in u:\n",
    "    for j in v:\n",
    "        op2_1.append(i*j)\n",
    "op2_1 = (np.array(op2)).reshape(4,4)     \n",
    "\n",
    "op2_2 = np.array([i*j for i in u for j in v]).reshape(4,4) #from a list of comprehension\n",
    "\n",
    "\n",
    "#Using numpy broadcasting operation\n",
    "\n",
    "##############################################\n",
    "\n",
    "\n",
    "\n",
    "\n",
    "\n",
    "print(op1,'\\n')\n",
    "\n",
    "print(op2_2,'\\n')\n",
    "\n",
    "\n"
   ]
  },
  {
   "cell_type": "markdown",
   "metadata": {},
   "source": [
    "3\\. Create a 10 by 6 matrix of random uniform numbers. Set all rows with any entry less than 0.1 to be zero\n",
    "\n",
    "Hint: Use the following numpy functions - np.random.random, np.any as well as Boolean indexing and the axis argument."
   ]
  },
  {
   "cell_type": "code",
   "execution_count": 54,
   "metadata": {},
   "outputs": [
    {
     "name": "stdout",
     "output_type": "stream",
     "text": [
      "[[0.69646919 0.28613933 0.22685145 0.55131477 0.71946897 0.42310646]\n",
      " [0.9807642  0.68482974 0.4809319  0.39211752 0.34317802 0.72904971]\n",
      " [0.43857224 0.0596779  0.39804426 0.73799541 0.18249173 0.17545176]\n",
      " [0.53155137 0.53182759 0.63440096 0.84943179 0.72445532 0.61102351]\n",
      " [0.72244338 0.32295891 0.36178866 0.22826323 0.29371405 0.63097612]\n",
      " [0.09210494 0.43370117 0.43086276 0.4936851  0.42583029 0.31226122]\n",
      " [0.42635131 0.89338916 0.94416002 0.50183668 0.62395295 0.1156184 ]\n",
      " [0.31728548 0.41482621 0.86630916 0.25045537 0.48303426 0.98555979]\n",
      " [0.51948512 0.61289453 0.12062867 0.8263408  0.60306013 0.54506801]\n",
      " [0.34276383 0.30412079 0.41702221 0.68130077 0.87545684 0.51042234]] \n",
      "\n",
      "[[False False False False False False]\n",
      " [False False False False False False]\n",
      " [False  True False False False False]\n",
      " [False False False False False False]\n",
      " [False False False False False False]\n",
      " [ True False False False False False]\n",
      " [False False False False False False]\n",
      " [False False False False False False]\n",
      " [False False False False False False]\n",
      " [False False False False False False]] \n",
      "\n",
      "[[0.69646919 0.28613933 0.22685145 0.55131477 0.71946897 0.42310646]\n",
      " [0.9807642  0.68482974 0.4809319  0.39211752 0.34317802 0.72904971]\n",
      " [0.43857224 0.         0.39804426 0.73799541 0.18249173 0.17545176]\n",
      " [0.53155137 0.53182759 0.63440096 0.84943179 0.72445532 0.61102351]\n",
      " [0.72244338 0.32295891 0.36178866 0.22826323 0.29371405 0.63097612]\n",
      " [0.         0.43370117 0.43086276 0.4936851  0.42583029 0.31226122]\n",
      " [0.42635131 0.89338916 0.94416002 0.50183668 0.62395295 0.1156184 ]\n",
      " [0.31728548 0.41482621 0.86630916 0.25045537 0.48303426 0.98555979]\n",
      " [0.51948512 0.61289453 0.12062867 0.8263408  0.60306013 0.54506801]\n",
      " [0.34276383 0.30412079 0.41702221 0.68130077 0.87545684 0.51042234]] \n",
      "\n"
     ]
    }
   ],
   "source": [
    "import numpy.random as npr\n",
    "npr.seed(123)\n",
    "\n",
    "m=npr.random((10,6)) #Return random floats in the half-open interval [0.0, 1.0).\n",
    "print(m,'\\n')\n",
    "\n",
    "mask=(m<0.1)\n",
    "\n",
    "print(mask, '\\n')\n",
    "\n",
    "m[mask] = 0\n",
    "\n",
    "print(m,'\\n')\n",
    "\n",
    "#######NON HO CAPITO PERCHE' DICEVA DI USARE LA FUNZIONE ANY"
   ]
  },
  {
   "cell_type": "markdown",
   "metadata": {},
   "source": [
    "4\\. Use np.linspace to create an array of 100 numbers between 0 and 2π (includsive).\n",
    "\n",
    "  * Extract every 10th element using slice notation\n",
    "  * Reverse the array using slice notation\n",
    "  * Extract elements where the absolute difference between the sine and cosine functions evaluated at that element is less than 0.1\n",
    "  * Make a plot showing the sin and cos functions and indicate where they are close"
   ]
  },
  {
   "cell_type": "markdown",
   "metadata": {},
   "source": [
    "5\\. Create a matrix that shows the 10 by 10 multiplication table.\n",
    "\n",
    " * Find the trace of the matrix\n",
    " * Extract the anto-diagonal (this should be ```array([10, 18, 24, 28, 30, 30, 28, 24, 18, 10])```)\n",
    " * Extract the diagnoal offset by 1 upwards (this should be ```array([ 2,  6, 12, 20, 30, 42, 56, 72, 90])```)"
   ]
  },
  {
   "cell_type": "markdown",
   "metadata": {},
   "source": [
    "6\\. Use broadcasting to create a grid of distances\n",
    "\n",
    "Route 66 crosses the following cities in the US: Chicago, Springfield, Saint-Louis, Tulsa, Oklahoma City, Amarillo, Santa Fe, Albuquerque, Flagstaff, Los Angeles\n",
    "The corresponding positions in miles are: 0, 198, 303, 736, 871, 1175, 1475, 1544, 1913, 2448\n",
    "\n",
    "  * Construct a 2D grid of distances among each city along Route 66\n",
    "  * Convert that in km (those savages...)"
   ]
  },
  {
   "cell_type": "markdown",
   "metadata": {},
   "source": [
    "7\\. Prime numbers sieve: compute the prime numbers in the 0-N (N=99 to start with) range with a sieve (mask).\n",
    "  * Constract a shape (100,) boolean array, the mask\n",
    "  * Identify the multiples of each number starting from 2 and set accordingly the corresponding mask element\n",
    "  * Apply the mask to obtain an array of ordered prime numbers\n",
    "  * Check the performances (timeit); how does it scale with N?\n",
    "  * Implement the optimization suggested in the [sieve of Eratosthenes](https://en.wikipedia.org/wiki/Sieve_of_Eratosthenes)"
   ]
  },
  {
   "cell_type": "markdown",
   "metadata": {},
   "source": [
    "**N.B. the following exercises are meant to be solved only if you are familiar with the numpy random library. If not you can skip them (postponed for one of the next exercise sessions)**\n"
   ]
  },
  {
   "cell_type": "markdown",
   "metadata": {},
   "source": [
    "8\\. Diffusion using random walk\n",
    "\n",
    "Consider a simple random walk process: at each step in time, a walker jumps right or left (+1 or -1) with equal probability. The goal is to find the typical distance from the origin of a random walker after a given amount of time. \n",
    "To do that, let's simulate many walkers and create a 2D array with each walker as a raw and the actual time evolution as columns\n",
    "\n",
    "  * Take 1000 walkers and let them walk for 200 steps\n",
    "  * Use randint to create a 2D array of size walkers x steps with values -1 or 1\n",
    "  * Build the actual walking distances for each walker (i.e. another 2D array \"summing on each raw\")\n",
    "  * Take the square of that 2D array (elementwise)\n",
    "  * Compute the mean of the squared distances at each step (i.e. the mean along the columns)\n",
    "  * Plot the average distances (sqrt(distance\\*\\*2)) as a function of time (step)\n",
    "  \n",
    "Did you get what you expected?"
   ]
  },
  {
   "cell_type": "markdown",
   "metadata": {},
   "source": [
    "9\\. Analyze a data file \n",
    "  * Download the population of hares, lynxes and carrots at the beginning of the last century.\n",
    "    ```python\n",
    "    ! wget https://www.dropbox.com/s/3vigxoqayo389uc/populations.txt\n",
    "    ```\n",
    "\n",
    "  * Check the content by looking within the file\n",
    "  * Load the data (use an appropriate numpy method) into a 2D array\n",
    "  * Create arrays out of the columns, the arrays being (in order): *year*, *hares*, *lynxes*, *carrots* \n",
    "  * Plot the 3 populations over the years\n",
    "  * Compute the main statistical properties of the dataset (mean, std, correlations, etc.)\n",
    "  * Which species has the highest population each year?\n",
    "\n",
    "Do you feel there is some evident correlation here? [Studies](https://www.enr.gov.nt.ca/en/services/lynx/lynx-snowshoe-hare-cycle) tend to believe so."
   ]
  }
 ],
 "metadata": {
  "kernelspec": {
   "display_name": "Python 3 (ipykernel)",
   "language": "python",
   "name": "python3"
  },
  "language_info": {
   "codemirror_mode": {
    "name": "ipython",
    "version": 3
   },
   "file_extension": ".py",
   "mimetype": "text/x-python",
   "name": "python",
   "nbconvert_exporter": "python",
   "pygments_lexer": "ipython3",
   "version": "3.11.5"
  }
 },
 "nbformat": 4,
 "nbformat_minor": 2
}
