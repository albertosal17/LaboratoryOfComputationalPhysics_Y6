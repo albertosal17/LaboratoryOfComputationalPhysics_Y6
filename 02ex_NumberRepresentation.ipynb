{
 "cells": [
  {
   "cell_type": "markdown",
   "metadata": {},
   "source": [
    "1\\. Write a function that converts number representation, bin<->dec<->hex. (Clearly using the corresponding python built-in functions is not fair..)"
   ]
  },
  {
   "cell_type": "code",
   "execution_count": 27,
   "metadata": {},
   "outputs": [
    {
     "name": "stdout",
     "output_type": "stream",
     "text": [
      "9\n",
      "9 \n",
      "\n",
      "256\n",
      "256 \n",
      "\n",
      "0b11110011\n",
      "0b11110011 \n",
      "\n",
      "0xF3\n",
      "0xf3 \n",
      "\n"
     ]
    }
   ],
   "source": [
    "#funzione che scompone la stringa che contiene il numero da convertire. Ritorna la base del numero e una lista contenente le sue cifre\n",
    "def num_scomposer(s):\n",
    "    #scompongo la stringa in lettere\n",
    "    letters = [i for i in s]\n",
    "\n",
    "    #scelgo quale metodo di conversione delle lettere (stringhe) in numeri, a seconda della base\n",
    "    if s[1] == 'b': #base 2\n",
    "        num = [int(j) for j in letters[2:]]\n",
    "        \n",
    "\n",
    "\n",
    "    elif s[1] == 'x': #base 16\n",
    "        num = [j for j in letters[2:]]\n",
    "\n",
    "        for i in range(len(num)):\n",
    "            if num[i] == 'A': num[i] = 10\n",
    "            if num[i] == 'B': num[i] = 11\n",
    "            if num[i] == 'C': num[i] = 12\n",
    "            if num[i] == 'D': num[i] = 13\n",
    "            if num[i] == 'E': num[i] = 14\n",
    "            if num[i] == 'F': num[i] = 15\n",
    "\n",
    "        num = [int(j) for j in num]\n",
    "        \n",
    "    num.reverse()   \n",
    "\n",
    "    return s[1], num\n",
    "\n",
    "\n",
    "def num_composer(num, base):\n",
    "    if base == \"x\":\n",
    "        for i in range(len(num)):\n",
    "            if   num[i] == 10: num[i] = 'A'\n",
    "            elif num[i] == 11: num[i] = 'B'\n",
    "            elif num[i] == 12: num[i] = 'C'\n",
    "            elif num[i] == 13: num[i] = 'D'\n",
    "            elif num[i] == 14: num[i] = 'E'\n",
    "            elif num[i] == 15: num[i] = 'F'\n",
    "\n",
    "    num = [str(i) for i in num]                \n",
    "\n",
    "    s = \"\"\n",
    "    for i in range(len(num)): s += num[i]\n",
    "\n",
    "    return s\n",
    "\n",
    "\n",
    "#funzione che ritorna la conversione decimale di un numero esadecimale oppure binario\n",
    "def to_decimal(num): \n",
    "\n",
    "    #scompongo il numero\n",
    "    base, num = num_scomposer(num)\n",
    "\n",
    "    N = len(num)\n",
    "\n",
    "    #a seconda della base scelgo il metodo di conversione in decimale\n",
    "    if base =='b':\n",
    "        l = [bit*(2**n) for bit,n in zip(num, list(range(N)))]\n",
    "        return sum(l)\n",
    "\n",
    "    elif base == 'x':\n",
    "        l = [bit*(16**n) for bit,n in zip(num, list(range(N)))]\n",
    "        return sum(l)\n",
    "    \n",
    "\n",
    "def from_decimal(num, base): #DA FINIRE\n",
    "    l= []\n",
    "    \n",
    "    if base == \"b\":\n",
    "        while(num/2 != 0):\n",
    "            l.append(num%2)\n",
    "            num=num//2\n",
    "        l.reverse()\n",
    "\n",
    "    elif base == \"x\":\n",
    "        while(num/16 != 0):\n",
    "            l.append(num%16)\n",
    "            num=num//16 \n",
    "        l.reverse()\n",
    "               \n",
    "    return \"0\" + base + num_composer(l, base)\n",
    "    \n",
    "\n",
    "#0b1001 equivalente a 9\n",
    "print(to_decimal(\"0b01001\"))\n",
    "print(int(0b01001), '\\n')\n",
    "\n",
    "print(to_decimal(\"0x0100\"))\n",
    "print(int(0x0100), '\\n')\n",
    "\n",
    "print(from_decimal(243, \"b\"))\n",
    "print(bin(243), '\\n')\n",
    "\n",
    "print(from_decimal(243, \"x\"))\n",
    "print(hex(243),'\\n')\n",
    "\n",
    "\n"
   ]
  },
  {
   "cell_type": "markdown",
   "metadata": {},
   "source": [
    "2\\. Write a function that converts a 32 bit word into a single precision floating point (i.e. interprets the various bits as sign, mantissa and exponent)"
   ]
  },
  {
   "cell_type": "code",
   "execution_count": 68,
   "metadata": {},
   "outputs": [
    {
     "name": "stdout",
     "output_type": "stream",
     "text": [
      "5.64237288394698e-37\n",
      "-1.5\n",
      "<class 'float'>\n"
     ]
    }
   ],
   "source": [
    "def word_to_float(word):\n",
    "    word = [w for w in word]\n",
    "    sign = int(word[0])\n",
    "\n",
    "    exp=\"\"\n",
    "    for i in word[1:9]: exp += i\n",
    "    exp = \"0b\" + exp\n",
    "    \n",
    "    mantissa=\"\"\n",
    "    for i in word[9:]: mantissa += i\n",
    "    mantissa = [int(j) for j in mantissa]\n",
    "    f = 0\n",
    "    l = [-i for i in range(1,len(mantissa)+1)]\n",
    "    for i in range(len(mantissa)): \n",
    "        f += mantissa[i] * 2**(l[i])\n",
    "\n",
    "\n",
    "    return ( (-1)**sign ) * ( 2**(to_decimal(exp) - 127) ) * f\n",
    "\n",
    "\n",
    "\n",
    "\n",
    "\n",
    "print(word_to_float(\"00000011111000000000000000000000\"))\n",
    "print(word_to_float(\"11000000101100000000000000000000\"))\n"
   ]
  },
  {
   "cell_type": "markdown",
   "metadata": {},
   "source": [
    "3\\. Write a program to determine the underflow and overflow limits (within a factor of 2) for python on your computer. \n",
    "\n",
    "**Tips**: define two variables inizialized to 1 and halve/double them enough time to exceed the under/over-flow limits  "
   ]
  },
  {
   "cell_type": "code",
   "execution_count": 5,
   "metadata": {},
   "outputs": [
    {
     "ename": "KeyboardInterrupt",
     "evalue": "",
     "output_type": "error",
     "traceback": [
      "\u001b[1;31m---------------------------------------------------------------------------\u001b[0m",
      "\u001b[1;31mKeyboardInterrupt\u001b[0m                         Traceback (most recent call last)",
      "Cell \u001b[1;32mIn[5], line 3\u001b[0m\n\u001b[0;32m      1\u001b[0m up, down \u001b[38;5;241m=\u001b[39m \u001b[38;5;241m1.0\u001b[39m, \u001b[38;5;241m1.0\u001b[39m\n\u001b[0;32m      2\u001b[0m \u001b[38;5;28;01mwhile\u001b[39;00m up\u001b[38;5;241m*\u001b[39m\u001b[38;5;241m2\u001b[39m \u001b[38;5;241m!=\u001b[39m \u001b[38;5;28mfloat\u001b[39m(\u001b[38;5;124m\"\u001b[39m\u001b[38;5;124minf\u001b[39m\u001b[38;5;124m\"\u001b[39m): up \u001b[38;5;241m*\u001b[39m\u001b[38;5;241m=\u001b[39m \u001b[38;5;241m2\u001b[39m\n\u001b[1;32m----> 3\u001b[0m \u001b[38;5;28;01mwhile\u001b[39;00m down\u001b[38;5;241m/\u001b[39m\u001b[38;5;241m2\u001b[39m \u001b[38;5;241m!=\u001b[39m \u001b[38;5;241m0.0\u001b[39m: down \u001b[38;5;241m/\u001b[39m \u001b[38;5;241m2\u001b[39m\n\u001b[0;32m      4\u001b[0m \u001b[38;5;28mprint\u001b[39m(\u001b[38;5;124m'\u001b[39m\u001b[38;5;124mupper limit:\u001b[39m\u001b[38;5;124m'\u001b[39m, up)\n\u001b[0;32m      5\u001b[0m \u001b[38;5;28mprint\u001b[39m(\u001b[38;5;124m'\u001b[39m\u001b[38;5;124mlower limit:\u001b[39m\u001b[38;5;124m'\u001b[39m, down)\n",
      "\u001b[1;31mKeyboardInterrupt\u001b[0m: "
     ]
    }
   ],
   "source": [
    "#RICONTROLLARE\n",
    "up, down = 1.0, 1.0\n",
    "while up*2 != float(\"inf\"): up *= 2\n",
    "while down/2 != 0.0: down / 2\n",
    "print('upper limit:', up)\n",
    "print('lower limit:', down)\n",
    "\n",
    "\n",
    "\n",
    "\n",
    "\"\"\"\"\"\n",
    "import time\n",
    "timeout = time.time() + 200   # 5 minutes from now\n",
    "\n",
    "i=2\n",
    "while True:\n",
    "    if time.time() > timeout:\n",
    "        print(\"timeout\")\n",
    "        break\n",
    "    if i==float('inf'): \n",
    "        print (\"overflow\")\n",
    "        break\n",
    "    i = i * 10\n",
    "\"\"\"\n"
   ]
  },
  {
   "cell_type": "markdown",
   "metadata": {},
   "source": [
    "4\\. Write a program to determine the machine precision\n",
    "\n",
    "**Tips**: define a new variable by adding a smaller and smaller value (proceeding similarly to prob. 2) to an original variable and check the point where the two are the same "
   ]
  },
  {
   "cell_type": "code",
   "execution_count": 7,
   "metadata": {},
   "outputs": [
    {
     "ename": "SyntaxError",
     "evalue": "invalid syntax (2196834896.py, line 4)",
     "output_type": "error",
     "traceback": [
      "\u001b[1;36m  Cell \u001b[1;32mIn[7], line 4\u001b[1;36m\u001b[0m\n\u001b[1;33m    while (v1 += (precision/2)) != v1: v1 += (precision/2)\u001b[0m\n\u001b[1;37m              ^\u001b[0m\n\u001b[1;31mSyntaxError\u001b[0m\u001b[1;31m:\u001b[0m invalid syntax\n"
     ]
    }
   ],
   "source": [
    "#RICONTROLLA\n",
    "v1 = 1.0\n",
    "precision = 1.0\n",
    "\n",
    "while (v1 += (precision/2)) != v1: v1 += (precision/2)\n",
    "\n",
    "print(precision)"
   ]
  },
  {
   "cell_type": "markdown",
   "metadata": {},
   "source": [
    "5\\. Write a function that takes in input three parameters $a$, $b$ and $c$ and prints out the two solutions to the quadratic equation $ax^2+bx+c=0$ using the standard formula:\n",
    "$$\n",
    "x=\\frac{-b\\pm\\sqrt{b^2-4ac}}{2a}\n",
    "$$\n",
    "\n",
    "(a) use the program to compute the solution for $a=0.001$, $b=1000$ and $c=0.001$\n",
    "\n",
    "(b) re-express the standard solution formula by multiplying top and bottom by $-b\\mp\\sqrt{b^2-4ac}$ and again find the solution for $a=0.001$, $b=1000$ and $c=0.001$. How does it compare with what previously obtained? Why?\n",
    "\n",
    "(c) write a function that compute the roots of a quadratic equation accurately in all cases"
   ]
  },
  {
   "cell_type": "code",
   "execution_count": 18,
   "metadata": {},
   "outputs": [
    {
     "name": "stdout",
     "output_type": "stream",
     "text": [
      "equation: 0.001x^2 + 1000x + 0.001\n",
      "equation: 0.001x^2 + 1000x + 0.001\n",
      "-9.999894245993346e-07 -999999.999999\n",
      "-1.0000000000009999e-06 -1000010.5755125057\n"
     ]
    }
   ],
   "source": [
    "def f_v1(a,b,c):\n",
    "    print(\"equation: \" + str(a) + \"x^2 + \" + str(b) + \"x + \" + str(c))\n",
    "\n",
    "    delta = b**2 -4*a*c\n",
    "    x1 = (-b + delta**0.5) / (2*a)\n",
    "    x2 = (-b - delta**0.5) / (2*a)\n",
    "\n",
    "    return x1,x2\n",
    "\n",
    "def f_v2(a,b,c):\n",
    "    print(\"equation: \" + str(a) + \"x^2 + \" + str(b) + \"x + \" + str(c))\n",
    "\n",
    "    delta1 = -b - (b**2 - 4*a*c)**0.5\n",
    "    delta2 = -b + (b**2 - 4*a*c)**0.5\n",
    "    x1 = 4*a*c / ((2*a)*delta1)\n",
    "    x2 = 4*a*c / ((2*a)*delta2)\n",
    "\n",
    "    return x1,x2\n",
    "\n",
    "#x1,x2 = f(a=1,b=8,c=15)\n",
    "x1_v1,x2_v1 = f_v1(a=0.001,b=1000,c=0.001)\n",
    "x1_v2,x2_v2 = f_v2(a=0.001,b=1000,c=0.001)\n",
    "\n",
    "\n",
    "\n",
    "print(x1_v1,x2_v1)\n",
    "print(x1_v2,x2_v2)\n"
   ]
  },
  {
   "cell_type": "markdown",
   "metadata": {},
   "source": [
    "6\\. Write a program that implements the function $f(x)=x(x−1)$\n",
    "\n",
    "(a) Calculate the derivative of the function at the point $x = 1$ using the derivative definition:\n",
    "\n",
    "$$\n",
    "\\frac{{\\rm d}f}{{\\rm d}x} = \\lim_{\\delta\\to0} \\frac{f(x+\\delta)-f(x)}{\\delta}\n",
    "$$\n",
    "\n",
    "with $\\delta = 10^{−2}$. Calculate the true value of the same derivative analytically and compare with the answer your program gives. The two will not agree perfectly. Why not?\n",
    "\n",
    "(b) Repeat the calculation for $\\delta = 10^{−4}, 10^{−6}, 10^{−8}, 10^{−10}, 10^{−12}$ and $10^{−14}$. How does the accuracy scales with $\\delta$?"
   ]
  },
  {
   "cell_type": "markdown",
   "metadata": {},
   "source": [
    "7\\. Consider the integral of the semicircle of radius 1:\n",
    "$$\n",
    "I=\\int_{-1}^{1} \\sqrt(1-x^2) {\\rm d}x\n",
    "$$\n",
    "which it's known to be $I=\\frac{\\pi}{2}=1.57079632679...$.\n",
    "Alternatively we can use the Riemann definition of the integral:\n",
    "$$\n",
    "I=\\lim_{N\\to\\infty} \\sum_{k=1}^{N} h y_k \n",
    "$$\n",
    "\n",
    "with $h=2/N$ the width of each of the $N$ slices the domain is divided into and where\n",
    "$y_k$ is the value of the function at the $k-$th slice.\n",
    "\n",
    "(a) Write a programe to compute the integral with $N=100$. How does the result compares to the true value?\n",
    "\n",
    "(b) How much can $N$ be increased if the computation needs to be run in less than a second? What is the gain in running it for 1 minute? \n"
   ]
  },
  {
   "cell_type": "code",
   "execution_count": null,
   "metadata": {},
   "outputs": [],
   "source": []
  }
 ],
 "metadata": {
  "kernelspec": {
   "display_name": "Python 3 (ipykernel)",
   "language": "python",
   "name": "python3"
  },
  "language_info": {
   "codemirror_mode": {
    "name": "ipython",
    "version": 3
   },
   "file_extension": ".py",
   "mimetype": "text/x-python",
   "name": "python",
   "nbconvert_exporter": "python",
   "pygments_lexer": "ipython3",
   "version": "3.9.18"
  }
 },
 "nbformat": 4,
 "nbformat_minor": 2
}
